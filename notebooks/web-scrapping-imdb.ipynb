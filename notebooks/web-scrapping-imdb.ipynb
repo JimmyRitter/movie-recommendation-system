{
 "cells": [
  {
   "cell_type": "markdown",
   "metadata": {},
   "source": [
    "### Import Libraries"
   ]
  },
  {
   "cell_type": "code",
   "execution_count": 35,
   "metadata": {},
   "outputs": [],
   "source": [
    "import matplotlib.pyplot as plt\n",
    "from bs4 import BeautifulSoup\n",
    "import pandas as pd\n",
    "import numpy as np\n",
    "import requests\n",
    "import json\n",
    "import re\n",
    "import os\n",
    "from sklearn.preprocessing import MinMaxScaler\n",
    "from sklearn.metrics.pairwise import cosine_similarity"
   ]
  },
  {
   "cell_type": "markdown",
   "metadata": {},
   "source": [
    "### Scrape imdb website to find the top 250 movies"
   ]
  },
  {
   "cell_type": "code",
   "execution_count": 36,
   "metadata": {},
   "outputs": [],
   "source": [
    "movie_list = []\n",
    "\n",
    "def scrape_imdb_top_movies():\n",
    "    \"\"\"Scrape IMDB website, so we have a list of movies to analyze\"\"\"\n",
    "\n",
    "    url = 'https://www.imdb.com/chart/top/?ref_=nv_mv_250'\n",
    "\n",
    "    response = requests.get(url, headers={\"User-Agent\":\"Mozilla/5.0 (Windows NT 10.0; Win64; x64; rv:130.0) Gecko/20100101 Firefox/130.0\"})\n",
    "    \n",
    "    soup = BeautifulSoup(response.content, 'html.parser')\n",
    "    \n",
    "    content_script_tag = soup.find('script', type='application/ld+json')\n",
    "    \n",
    "    # Load JSON data\n",
    "    json_data = json.loads(content_script_tag.string)\n",
    "        \n",
    "    movies = json_data['itemListElement']\n",
    "    for movie in movies:\n",
    "        name = movie['item']['name']\n",
    "        genre = movie['item'].get('genre', 'N/A')  # Use .get() in case the field is missing\n",
    "        description = movie['item'].get('description', 'N/A')\n",
    "        duration = movie['item'].get('duration', 'N/A')\n",
    "        content_rating = movie['item'].get('contentRating', 'N/A')\n",
    "        rating = movie['item']['aggregateRating'].get('ratingValue', 'N/A')\n",
    "        \n",
    "        # Append to list\n",
    "        movie_list.append([name, genre, description, duration, content_rating, rating])\n",
    "    \n",
    "\n",
    "    # Convert list to a pandas DataFrame\n",
    "    return pd.DataFrame(movie_list, columns=['Name', 'Genre', 'Description', 'Duration', 'ContentRating', 'Rating'])\n",
    "\n",
    "\n",
    "movie_df = scrape_imdb_top_movies()"
   ]
  },
  {
   "cell_type": "markdown",
   "metadata": {},
   "source": [
    "### (Optional) Adding some \"dirty\" records, so we we can see cleaning in action"
   ]
  },
  {
   "cell_type": "code",
   "execution_count": 37,
   "metadata": {},
   "outputs": [],
   "source": [
    "# Add 2 dummy records\n",
    "new_row = pd.DataFrame([\n",
    "    ['dummy', '', 'dummy description', 123, '', ''],\n",
    "    ['Viral video', 'Youtube Shorts', 'This is a youtube viral video', 'PT1M', '', '']],\n",
    "                       columns=['Name', 'Genre', 'Description', 'Duration', 'ContentRating', 'Rating'])\n",
    "\n",
    "movie_df = pd.concat([movie_df, new_row], ignore_index=True)\n",
    "\n",
    "# Remove a movie name, so it finds null records\n",
    "movie_df.loc[3, ['Name']] = \"\""
   ]
  },
  {
   "cell_type": "markdown",
   "metadata": {},
   "source": [
    "### Generate the CSV based on the scrapped results"
   ]
  },
  {
   "cell_type": "code",
   "execution_count": 38,
   "metadata": {},
   "outputs": [],
   "source": [
    "filename = 'movies_scraped.csv'\n",
    "\n",
    "outdir = '../data'\n",
    "if not os.path.exists(outdir):\n",
    "    os.mkdir(outdir)\n",
    "\n",
    "fullname = os.path.join(outdir, filename)    \n",
    "movie_df.to_csv(fullname, sep='|')"
   ]
  },
  {
   "cell_type": "markdown",
   "metadata": {},
   "source": [
    "### Load Data"
   ]
  },
  {
   "cell_type": "code",
   "execution_count": 39,
   "metadata": {},
   "outputs": [],
   "source": [
    "df = pd.read_csv('../data/movies_scraped.csv', sep='|')"
   ]
  },
  {
   "cell_type": "markdown",
   "metadata": {},
   "source": [
    "### Data cleaning (invalid records)"
   ]
  },
  {
   "cell_type": "code",
   "execution_count": 40,
   "metadata": {},
   "outputs": [],
   "source": [
    "# Pattern to match valid duration formats (PT2H22M, PT2H, PT22M)\n",
    "valid_duration_pattern = r'^PT(\\d+H)?(\\d+M)?$'\n",
    "\n",
    "# Filter out rows with invalid 'Duration' using regex\n",
    "df = df[df['Duration'].str.match(valid_duration_pattern, na=False)]\n",
    "\n",
    "df[['Rating']] = df[['Rating']].fillna(value=0)\n",
    "df[['Name', 'Genre', 'Description', 'Duration', 'ContentRating']] = df[['Name', 'Genre', 'Description', 'Duration', 'ContentRating']].fillna(value=\"Unknown\")"
   ]
  },
  {
   "cell_type": "markdown",
   "metadata": {},
   "source": [
    "### Data Transformation"
   ]
  },
  {
   "cell_type": "code",
   "execution_count": 41,
   "metadata": {},
   "outputs": [],
   "source": [
    "# Convert 'Duration' to total minutes\n",
    "def convert_duration(duration_str):\n",
    "    hours = 0\n",
    "    minutes = 0\n",
    "    hour_match = re.search(r'(\\d+)H', duration_str)\n",
    "    minute_match = re.search(r'(\\d+)M', duration_str)\n",
    "    if hour_match:\n",
    "        hours = int(hour_match.group(1))\n",
    "    if minute_match:\n",
    "        minutes = int(minute_match.group(1))\n",
    "    return hours * 60 + minutes\n",
    "\n",
    "# Apply the conversion\n",
    "df['Duration_in_minutes'] = df['Duration'].apply(convert_duration)\n",
    "\n",
    "# Replace the HTML entity for apostrophe (&apos;) with the actual apostrophe (')\n",
    "df = df.replace(\"&apos;\", \"'\", regex=True)"
   ]
  },
  {
   "cell_type": "markdown",
   "metadata": {},
   "source": [
    "### Data cleaning (remove outliers)"
   ]
  },
  {
   "cell_type": "code",
   "execution_count": 42,
   "metadata": {},
   "outputs": [
    {
     "name": "stdout",
     "output_type": "stream",
     "text": [
      "Mean Duration: 129.68 minutes\n",
      "Valid Range: 12.97 - 246.39 minutes\n"
     ]
    }
   ],
   "source": [
    "# Calculate the mean of 'Duration_in_minutes'\n",
    "mean_duration = df['Duration_in_minutes'].mean()\n",
    "\n",
    "# Define a percentage tolerance (e.g., 90%)\n",
    "percentage_tolerance = 0.9\n",
    "\n",
    "# Calculate dynamic minimum and maximum duration values\n",
    "min_duration = mean_duration * (1 - percentage_tolerance)\n",
    "max_duration = mean_duration * (1 + percentage_tolerance)\n",
    "\n",
    "print(f\"Mean Duration: {mean_duration:.2f} minutes\")\n",
    "print(f\"Valid Range: {min_duration:.2f} - {max_duration:.2f} minutes\")\n",
    "\n",
    "# Filter the DataFrame to identify outliers based on the dynamic range\n",
    "df_valids = df[(df['Duration_in_minutes'] >= min_duration) & (df['Duration_in_minutes'] <= max_duration)]\n",
    "\n",
    "# Perform a left join, so we can identify the outliers based on the valid ones\n",
    "df_merged = pd.merge(df, df_valids, on=['Name', 'Genre', 'Description'], how='left', suffixes=('', '_valid'))\n",
    "\n",
    "# Identify the outliers, so they can be further analyzed. Maybe there are some false positives\n",
    "df_outliers = df_merged[df_merged['Duration_in_minutes_valid'].isnull()]\n",
    "\n",
    "df = df_valids"
   ]
  },
  {
   "cell_type": "markdown",
   "metadata": {},
   "source": [
    "### Checking the outliers, as they might be false positives"
   ]
  },
  {
   "cell_type": "code",
   "execution_count": 43,
   "metadata": {},
   "outputs": [
    {
     "data": {
      "text/html": [
       "<div>\n",
       "<style scoped>\n",
       "    .dataframe tbody tr th:only-of-type {\n",
       "        vertical-align: middle;\n",
       "    }\n",
       "\n",
       "    .dataframe tbody tr th {\n",
       "        vertical-align: top;\n",
       "    }\n",
       "\n",
       "    .dataframe thead th {\n",
       "        text-align: right;\n",
       "    }\n",
       "</style>\n",
       "<table border=\"1\" class=\"dataframe\">\n",
       "  <thead>\n",
       "    <tr style=\"text-align: right;\">\n",
       "      <th></th>\n",
       "      <th>Unnamed: 0</th>\n",
       "      <th>Name</th>\n",
       "      <th>Genre</th>\n",
       "      <th>Description</th>\n",
       "      <th>Duration</th>\n",
       "      <th>ContentRating</th>\n",
       "      <th>Rating</th>\n",
       "      <th>Duration_in_minutes</th>\n",
       "      <th>Unnamed: 0_valid</th>\n",
       "      <th>Duration_valid</th>\n",
       "      <th>ContentRating_valid</th>\n",
       "      <th>Rating_valid</th>\n",
       "      <th>Duration_in_minutes_valid</th>\n",
       "    </tr>\n",
       "  </thead>\n",
       "  <tbody>\n",
       "    <tr>\n",
       "      <th>250</th>\n",
       "      <td>251</td>\n",
       "      <td>Viral video</td>\n",
       "      <td>Youtube Shorts</td>\n",
       "      <td>This is a youtube viral video</td>\n",
       "      <td>PT1M</td>\n",
       "      <td>Unknown</td>\n",
       "      <td>0.0</td>\n",
       "      <td>1</td>\n",
       "      <td>NaN</td>\n",
       "      <td>NaN</td>\n",
       "      <td>NaN</td>\n",
       "      <td>NaN</td>\n",
       "      <td>NaN</td>\n",
       "    </tr>\n",
       "  </tbody>\n",
       "</table>\n",
       "</div>"
      ],
      "text/plain": [
       "     Unnamed: 0         Name           Genre                    Description  \\\n",
       "250         251  Viral video  Youtube Shorts  This is a youtube viral video   \n",
       "\n",
       "    Duration ContentRating  Rating  Duration_in_minutes  Unnamed: 0_valid  \\\n",
       "250     PT1M       Unknown     0.0                    1               NaN   \n",
       "\n",
       "    Duration_valid ContentRating_valid  Rating_valid  \\\n",
       "250            NaN                 NaN           NaN   \n",
       "\n",
       "     Duration_in_minutes_valid  \n",
       "250                        NaN  "
      ]
     },
     "execution_count": 43,
     "metadata": {},
     "output_type": "execute_result"
    }
   ],
   "source": [
    "df_outliers.head()"
   ]
  },
  {
   "cell_type": "markdown",
   "metadata": {},
   "source": [
    "### Feature Engineering"
   ]
  },
  {
   "cell_type": "code",
   "execution_count": 44,
   "metadata": {},
   "outputs": [],
   "source": [
    "# Define a mapping to classify each rating into a category\n",
    "def classify_rating(rating):\n",
    "    family_friendly = ['G', 'U', 'Approved', 'Passed']\n",
    "    family_with_supervision = ['PG', 'PG-13', '12A', 'TV-14']\n",
    "    adult_only = ['R', 'NC-17', 'Not Rated', 'Unknown', '15', '18', '16']\n",
    "\n",
    "    if rating in family_friendly:\n",
    "        return 'Family-Friendly'\n",
    "    elif rating in family_with_supervision:\n",
    "        return 'Family-Friendly with Supervision'\n",
    "    elif rating in adult_only:\n",
    "        return 'Adult Only'\n",
    "    else:\n",
    "        return 'Unclassified'\n",
    "\n",
    "# Apply the classification to create the 3 separate boolean columns\n",
    "df['Family_Friendly'] = df['ContentRating'].apply(lambda x: classify_rating(x) == 'Family-Friendly')\n",
    "df['Family_Friendly_with_Supervision'] = df['ContentRating'].apply(lambda x: classify_rating(x) == 'Family-Friendly with Supervision')\n",
    "df['Adult_Only'] = df['ContentRating'].apply(lambda x: classify_rating(x) == 'Adult Only')"
   ]
  },
  {
   "cell_type": "markdown",
   "metadata": {},
   "source": [
    "### One-hot encoding"
   ]
  },
  {
   "cell_type": "code",
   "execution_count": 45,
   "metadata": {},
   "outputs": [],
   "source": [
    "# Split the 'Genre' column by commas into a list of genres\n",
    "df['Genre_Split'] = df['Genre'].str.split(', ')\n",
    "\n",
    "# Explode the DataFrame so that each genre gets its own row\n",
    "df_exploded = df.explode('Genre_Split')\n",
    "\n",
    "# Apply one-hot encoding to the exploded 'Genre_Split' column\n",
    "df_one_hot = pd.get_dummies(df_exploded['Genre_Split'])\n",
    "\n",
    "# Group by the original movie to aggregate the genres\n",
    "df_content_matrix = df_one_hot.groupby(df_exploded['Name']).max().reset_index()\n",
    "\n",
    "df_combined = df_content_matrix.copy()  # Copy the one-hot encoded matrix\n",
    "\n",
    "# Add other numerical features, like 'Duration_in_minutes'\n",
    "df_combined = df_combined.merge(df[['Name', 'Duration_in_minutes']], on='Name')\n",
    "\n",
    "# One-hot encode the 'ContentRating' column\n",
    "df_content_rating = pd.get_dummies(df[['Name', 'ContentRating']], columns=['ContentRating'])\n",
    "\n",
    "# Merge the one-hot encoded content rating with the combined matrix based on the 'Name' column\n",
    "df_combined = df_combined.merge(df_content_rating, on='Name')"
   ]
  },
  {
   "cell_type": "markdown",
   "metadata": {},
   "source": [
    "### Similarity Matrix"
   ]
  },
  {
   "cell_type": "code",
   "execution_count": 46,
   "metadata": {},
   "outputs": [],
   "source": [
    "df_numeric = df_combined.drop(columns=['Name'])\n",
    "\n",
    "# Step 2: Normalize the numerical features (optional, but recommended for balancing feature scales)\n",
    "scaler = MinMaxScaler()\n",
    "df_normalized = pd.DataFrame(scaler.fit_transform(df_numeric), columns=df_numeric.columns)\n",
    "\n",
    "# Step 3: Calculate cosine similarity based on the structured features\n",
    "cosine_sim_matrix = cosine_similarity(df_normalized)\n",
    "\n",
    "# Step 4: Convert the similarity matrix to a DataFrame for better readability\n",
    "cosine_sim_df = pd.DataFrame(cosine_sim_matrix, index=df_combined['Name'], columns=df_combined['Name'])\n"
   ]
  },
  {
   "cell_type": "markdown",
   "metadata": {},
   "source": [
    "### Find similar movies (using structured data)"
   ]
  },
  {
   "cell_type": "code",
   "execution_count": 47,
   "metadata": {},
   "outputs": [
    {
     "data": {
      "text/plain": [
       "Name\n",
       "The Lord of the Rings: The Two Towers                0.998753\n",
       "The Lord of the Rings: The Fellowship of the Ring    0.998635\n",
       "Dune: Part Two                                       0.996777\n",
       "Top Gun: Maverick                                    0.870508\n",
       "Indiana Jones and the Last Crusade                   0.869080\n",
       "Avengers: Endgame                                    0.780359\n",
       "Interstellar                                         0.776640\n",
       "The Dark Knight Rises                                0.774888\n",
       "Gladiator                                            0.771427\n",
       "The Dark Knight                                      0.770184\n",
       "Name: The Lord of the Rings: The Return of the King, dtype: float64"
      ]
     },
     "execution_count": 47,
     "metadata": {},
     "output_type": "execute_result"
    }
   ],
   "source": [
    "# Movie name that you want to find similar ones\n",
    "movie_name = 'The Lord of the Rings: The Return of the King'\n",
    "\n",
    "similar_movies = cosine_sim_df[movie_name]\n",
    "\n",
    "sorted_similar_movies = similar_movies.sort_values(ascending=False)\n",
    "\n",
    "# Exclude the movie itself from the list (similarity with itself is always 1)\n",
    "sorted_similar_movies = sorted_similar_movies[sorted_similar_movies.index != movie_name]\n",
    "\n",
    "# Display the sorted list of similar movies\n",
    "sorted_similar_movies.head(10)"
   ]
  },
  {
   "cell_type": "markdown",
   "metadata": {},
   "source": [
    "### Exploratory Data Analaysis"
   ]
  },
  {
   "cell_type": "markdown",
   "metadata": {},
   "source": [
    "#### Distribution of Movie Durations"
   ]
  },
  {
   "cell_type": "code",
   "execution_count": 48,
   "metadata": {},
   "outputs": [
    {
     "data": {
      "image/png": "[encoded data removed]",
      "text/plain": [
       "<Figure size 640x480 with 1 Axes>"
      ]
     },
     "metadata": {},
     "output_type": "display_data"
    }
   ],
   "source": [
    "# using square root as this is simple and useful for general purposes\n",
    "num_bins = int(np.sqrt(len(df['Duration_in_minutes'])))\n",
    "\n",
    "# plot the histogram with the calculated number of bins\n",
    "plt.hist(df['Duration_in_minutes'], bins=num_bins)\n",
    "\n",
    "plt.title('Distribution of Movie Durations')\n",
    "plt.xlabel('Minutes')\n",
    "plt.ylabel('Amount')\n",
    "plt.show()\n"
   ]
  },
  {
   "cell_type": "markdown",
   "metadata": {},
   "source": [
    "#### Genre Analysis"
   ]
  },
  {
   "cell_type": "code",
   "execution_count": 49,
   "metadata": {},
   "outputs": [
    {
     "data": {
      "image/png": "[encoded data removed]",
      "text/plain": [
       "<Figure size 1000x600 with 1 Axes>"
      ]
     },
     "metadata": {},
     "output_type": "display_data"
    }
   ],
   "source": [
    "# Get the genre counts and sort them in descending order\n",
    "genre_counts = df['Genre'].str.split(', ').explode().value_counts().sort_values(ascending=True)\n",
    "\n",
    "# Plot the horizontal bar chart with sorted values\n",
    "genre_counts.plot(kind='barh', figsize=(10, 6), color='skyblue')\n",
    "\n",
    "# Add titles and labels\n",
    "plt.title('Distribution of Genres')\n",
    "plt.xlabel('Number of Movies')\n",
    "plt.ylabel('Genre')\n",
    "plt.show()\n"
   ]
  }
 ],
 "metadata": {
  "kernelspec": {
   "display_name": "Python 3",
   "language": "python",
   "name": "python3"
  },
  "language_info": {
   "codemirror_mode": {
    "name": "ipython",
    "version": 3
   },
   "file_extension": ".py",
   "mimetype": "text/x-python",
   "name": "python",
   "nbconvert_exporter": "python",
   "pygments_lexer": "ipython3",
   "version": "3.9.2"
  }
 },
 "nbformat": 4,
 "nbformat_minor": 2
}
