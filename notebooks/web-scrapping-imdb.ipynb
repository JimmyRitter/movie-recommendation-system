{
 "cells": [
  {
   "cell_type": "markdown",
   "metadata": {},
   "source": [
    "## Scrape imdb website to find the top 250 movies"
   ]
  },
  {
   "cell_type": "code",
   "execution_count": 4,
   "metadata": {},
   "outputs": [
    {
     "name": "stdout",
     "output_type": "stream",
     "text": [
      "<built-in method count of ResultSet object at 0x000001ED8C3C5400>\n"
     ]
    },
    {
     "data": {
      "text/html": [
       "<div>\n",
       "<style scoped>\n",
       "    .dataframe tbody tr th:only-of-type {\n",
       "        vertical-align: middle;\n",
       "    }\n",
       "\n",
       "    .dataframe tbody tr th {\n",
       "        vertical-align: top;\n",
       "    }\n",
       "\n",
       "    .dataframe thead th {\n",
       "        text-align: right;\n",
       "    }\n",
       "</style>\n",
       "<table border=\"1\" class=\"dataframe\">\n",
       "  <thead>\n",
       "    <tr style=\"text-align: right;\">\n",
       "      <th></th>\n",
       "      <th>Title</th>\n",
       "    </tr>\n",
       "  </thead>\n",
       "  <tbody>\n",
       "    <tr>\n",
       "      <th>0</th>\n",
       "      <td>1. The Shawshank Redemption</td>\n",
       "    </tr>\n",
       "    <tr>\n",
       "      <th>1</th>\n",
       "      <td>2. The Godfather</td>\n",
       "    </tr>\n",
       "    <tr>\n",
       "      <th>2</th>\n",
       "      <td>3. The Dark Knight</td>\n",
       "    </tr>\n",
       "    <tr>\n",
       "      <th>3</th>\n",
       "      <td>4. The Godfather Part II</td>\n",
       "    </tr>\n",
       "    <tr>\n",
       "      <th>4</th>\n",
       "      <td>5. 12 Angry Men</td>\n",
       "    </tr>\n",
       "  </tbody>\n",
       "</table>\n",
       "</div>"
      ],
      "text/plain": [
       "                         Title\n",
       "0  1. The Shawshank Redemption\n",
       "1             2. The Godfather\n",
       "2           3. The Dark Knight\n",
       "3     4. The Godfather Part II\n",
       "4              5. 12 Angry Men"
      ]
     },
     "execution_count": 4,
     "metadata": {},
     "output_type": "execute_result"
    }
   ],
   "source": [
    "from selenium import webdriver\n",
    "from bs4 import BeautifulSoup\n",
    "import pandas as pd\n",
    "import requests\n",
    "import time\n",
    "\n",
    "def scrape_imdb_top_movies(url):\n",
    "    #The resulting parsed HTML is stored in the variable \"soup\", which can then be used to extract information from the webpage using various BeautifulSoup methods and functions.\n",
    "    soup = BeautifulSoup(driver.page_source, 'html.parser')\n",
    "\n",
    "    # Start from the ipc-page-grid class\n",
    "    page_grid = soup.find('div', class_='ipc-page-grid')\n",
    "\n",
    "    # Find the main content column\n",
    "    main_column = page_grid.find('div', class_='ipc-page-grid__item--span-2')\n",
    "\n",
    "    # Find all movie items within the main column\n",
    "    movie_items = main_column.find_all('li', class_='ipc-metadata-list-summary-item') if main_column else []\n",
    "\n",
    "    movies = []\n",
    "\n",
    "    print(movie_items.count)\n",
    "\n",
    "    for item in movie_items:\n",
    "        title_elem = item.find('h3', class_='ipc-title__text')\n",
    "        title = title_elem.text\n",
    "        movies.append(title)\n",
    "\n",
    "    return pd.DataFrame(movies, columns=['Title'])\n",
    "\n",
    "\n",
    "url = 'https://www.imdb.com/chart/top/?ref_=nv_mv_250'\n",
    "driver = webdriver.Firefox()\n",
    "driver.get(url)\n",
    "time.sleep(3)\n",
    "\n",
    "movie_df = scrape_imdb_top_movies(url)\n",
    "movie_df.head()\n",
    "driver.quit()"
   ]
  },
  {
   "cell_type": "markdown",
   "metadata": {},
   "source": [
    "### Generate the CSV based on the scrapped results"
   ]
  },
  {
   "cell_type": "code",
   "execution_count": 5,
   "metadata": {},
   "outputs": [],
   "source": [
    "import os\n",
    "\n",
    "filename = 'movies_scraped.csv'\n",
    "\n",
    "outdir = '../data'\n",
    "if not os.path.exists(outdir):\n",
    "    os.mkdir(outdir)\n",
    "\n",
    "fullname = os.path.join(outdir, filename)    \n",
    "movie_df.to_csv(fullname)"
   ]
  }
 ],
 "metadata": {
  "kernelspec": {
   "display_name": "Python 3",
   "language": "python",
   "name": "python3"
  },
  "language_info": {
   "codemirror_mode": {
    "name": "ipython",
    "version": 3
   },
   "file_extension": ".py",
   "mimetype": "text/x-python",
   "name": "python",
   "nbconvert_exporter": "python",
   "pygments_lexer": "ipython3",
   "version": "3.9.2"
  }
 },
 "nbformat": 4,
 "nbformat_minor": 2
}
