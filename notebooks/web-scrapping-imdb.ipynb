{
 "cells": [
  {
   "cell_type": "code",
   "execution_count": 7,
   "metadata": {},
   "outputs": [
    {
     "name": "stdout",
     "output_type": "stream",
     "text": [
      "1. The Shawshank Redemption\n",
      "2. The Godfather\n",
      "3. The Dark Knight\n",
      "4. The Godfather Part II\n",
      "5. 12 Angry Men\n",
      "6. Schindler's List\n",
      "7. The Lord of the Rings: The Return of the King\n",
      "8. Pulp Fiction\n",
      "9. The Lord of the Rings: The Fellowship of the Ring\n",
      "10. Il buono, il brutto, il cattivo\n",
      "11. Forrest Gump\n",
      "12. The Lord of the Rings: The Two Towers\n",
      "13. Fight Club\n",
      "14. Inception\n",
      "15. Star Wars: Episode V - The Empire Strikes Back\n",
      "16. The Matrix\n",
      "17. Goodfellas\n",
      "18. One Flew Over the Cuckoo's Nest\n",
      "19. Interstellar\n",
      "20. Se7en\n",
      "21. It's a Wonderful Life\n",
      "22. Shichinin no samurai\n",
      "23. The Silence of the Lambs\n",
      "24. Saving Private Ryan\n",
      "25. Cidade de Deus\n"
     ]
    },
    {
     "data": {
      "text/html": [
       "<div>\n",
       "<style scoped>\n",
       "    .dataframe tbody tr th:only-of-type {\n",
       "        vertical-align: middle;\n",
       "    }\n",
       "\n",
       "    .dataframe tbody tr th {\n",
       "        vertical-align: top;\n",
       "    }\n",
       "\n",
       "    .dataframe thead th {\n",
       "        text-align: right;\n",
       "    }\n",
       "</style>\n",
       "<table border=\"1\" class=\"dataframe\">\n",
       "  <thead>\n",
       "    <tr style=\"text-align: right;\">\n",
       "      <th></th>\n",
       "      <th>Title</th>\n",
       "    </tr>\n",
       "  </thead>\n",
       "  <tbody>\n",
       "    <tr>\n",
       "      <th>0</th>\n",
       "      <td>1. The Shawshank Redemption</td>\n",
       "    </tr>\n",
       "    <tr>\n",
       "      <th>1</th>\n",
       "      <td>2. The Godfather</td>\n",
       "    </tr>\n",
       "    <tr>\n",
       "      <th>2</th>\n",
       "      <td>3. The Dark Knight</td>\n",
       "    </tr>\n",
       "    <tr>\n",
       "      <th>3</th>\n",
       "      <td>4. The Godfather Part II</td>\n",
       "    </tr>\n",
       "    <tr>\n",
       "      <th>4</th>\n",
       "      <td>5. 12 Angry Men</td>\n",
       "    </tr>\n",
       "  </tbody>\n",
       "</table>\n",
       "</div>"
      ],
      "text/plain": [
       "                         Title\n",
       "0  1. The Shawshank Redemption\n",
       "1             2. The Godfather\n",
       "2           3. The Dark Knight\n",
       "3     4. The Godfather Part II\n",
       "4              5. 12 Angry Men"
      ]
     },
     "execution_count": 7,
     "metadata": {},
     "output_type": "execute_result"
    }
   ],
   "source": [
    "import requests\n",
    "from bs4 import BeautifulSoup\n",
    "import pandas as pd\n",
    "\n",
    "def scrape_imdb_top_movies(url):\n",
    "    response = requests.get(url, headers={\"User-Agent\":\"Mozilla/5.0 (Windows NT 10.0; Win64; x64; rv:130.0) Gecko/20100101 Firefox/130.0\"})\n",
    "    \n",
    "    soup = BeautifulSoup(response.text, 'html.parser')\n",
    "\n",
    "    # Start from the ipc-page-grid class\n",
    "    page_grid = soup.find('div', class_='ipc-page-grid')\n",
    "\n",
    "    # Find the main content column\n",
    "    main_column = page_grid.find('div', class_='ipc-page-grid__item--span-2')\n",
    "\n",
    "    # Find all movie items within the main column\n",
    "    movie_items = main_column.find_all('li', class_='ipc-metadata-list-summary-item') if main_column else []\n",
    "\n",
    "    movies = []\n",
    "\n",
    "    for item in movie_items:\n",
    "        title_elem = item.find('h3', class_='ipc-title__text')\n",
    "        title = title_elem.text\n",
    "        movies.append(title)\n",
    "\n",
    "    return pd.DataFrame(movies, columns=['Title'])\n",
    "\n",
    "url = 'https://www.imdb.com/chart/top/?ref_=nv_mv_250'\n",
    "movie_df = scrape_imdb_top_movies(url)\n",
    "movie_df.head()"
   ]
  },
  {
   "cell_type": "code",
   "execution_count": 8,
   "metadata": {},
   "outputs": [],
   "source": [
    "import os\n",
    "\n",
    "filename = 'movies_scraped.csv'\n",
    "\n",
    "outdir = '../data'\n",
    "if not os.path.exists(outdir):\n",
    "    os.mkdir(outdir)\n",
    "\n",
    "fullname = os.path.join(outdir, filename)    \n",
    "movie_df.to_csv(fullname)"
   ]
  }
 ],
 "metadata": {
  "kernelspec": {
   "display_name": "Python 3",
   "language": "python",
   "name": "python3"
  },
  "language_info": {
   "codemirror_mode": {
    "name": "ipython",
    "version": 3
   },
   "file_extension": ".py",
   "mimetype": "text/x-python",
   "name": "python",
   "nbconvert_exporter": "python",
   "pygments_lexer": "ipython3",
   "version": "3.9.2"
  }
 },
 "nbformat": 4,
 "nbformat_minor": 2
}
