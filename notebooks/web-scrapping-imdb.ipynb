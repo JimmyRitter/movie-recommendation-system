{
 "cells": [
  {
   "cell_type": "markdown",
   "metadata": {},
   "source": [
    "## Scrape imdb website to find the top 250 movies"
   ]
  },
  {
   "cell_type": "code",
   "execution_count": 17,
   "metadata": {},
   "outputs": [
    {
     "data": {
      "text/html": [
       "<div>\n",
       "<style scoped>\n",
       "    .dataframe tbody tr th:only-of-type {\n",
       "        vertical-align: middle;\n",
       "    }\n",
       "\n",
       "    .dataframe tbody tr th {\n",
       "        vertical-align: top;\n",
       "    }\n",
       "\n",
       "    .dataframe thead th {\n",
       "        text-align: right;\n",
       "    }\n",
       "</style>\n",
       "<table border=\"1\" class=\"dataframe\">\n",
       "  <thead>\n",
       "    <tr style=\"text-align: right;\">\n",
       "      <th></th>\n",
       "      <th>Name</th>\n",
       "      <th>Genre</th>\n",
       "      <th>Description</th>\n",
       "      <th>Duration</th>\n",
       "    </tr>\n",
       "  </thead>\n",
       "  <tbody>\n",
       "    <tr>\n",
       "      <th>0</th>\n",
       "      <td>The Shawshank Redemption</td>\n",
       "      <td>Drama</td>\n",
       "      <td>A banker convicted of uxoricide forms a friend...</td>\n",
       "      <td>PT2H22M</td>\n",
       "    </tr>\n",
       "    <tr>\n",
       "      <th>1</th>\n",
       "      <td>The Godfather</td>\n",
       "      <td>Crime, Drama</td>\n",
       "      <td>The aging patriarch of an organized crime dyna...</td>\n",
       "      <td>PT2H55M</td>\n",
       "    </tr>\n",
       "    <tr>\n",
       "      <th>2</th>\n",
       "      <td>The Dark Knight</td>\n",
       "      <td>Action, Crime, Drama</td>\n",
       "      <td>When a menace known as the Joker wreaks havoc ...</td>\n",
       "      <td>PT2H32M</td>\n",
       "    </tr>\n",
       "    <tr>\n",
       "      <th>3</th>\n",
       "      <td>The Godfather Part II</td>\n",
       "      <td>Crime, Drama</td>\n",
       "      <td>The early life and career of Vito Corleone in ...</td>\n",
       "      <td>PT3H22M</td>\n",
       "    </tr>\n",
       "    <tr>\n",
       "      <th>4</th>\n",
       "      <td>12 Angry Men</td>\n",
       "      <td>Crime, Drama</td>\n",
       "      <td>The jury in a New York City murder trial is fr...</td>\n",
       "      <td>PT1H36M</td>\n",
       "    </tr>\n",
       "  </tbody>\n",
       "</table>\n",
       "</div>"
      ],
      "text/plain": [
       "                       Name                 Genre  \\\n",
       "0  The Shawshank Redemption                 Drama   \n",
       "1             The Godfather          Crime, Drama   \n",
       "2           The Dark Knight  Action, Crime, Drama   \n",
       "3     The Godfather Part II          Crime, Drama   \n",
       "4              12 Angry Men          Crime, Drama   \n",
       "\n",
       "                                         Description Duration  \n",
       "0  A banker convicted of uxoricide forms a friend...  PT2H22M  \n",
       "1  The aging patriarch of an organized crime dyna...  PT2H55M  \n",
       "2  When a menace known as the Joker wreaks havoc ...  PT2H32M  \n",
       "3  The early life and career of Vito Corleone in ...  PT3H22M  \n",
       "4  The jury in a New York City murder trial is fr...  PT1H36M  "
      ]
     },
     "execution_count": 17,
     "metadata": {},
     "output_type": "execute_result"
    }
   ],
   "source": [
    "from bs4 import BeautifulSoup\n",
    "import pandas as pd\n",
    "import requests\n",
    "import json\n",
    "\n",
    "def scrape_imdb_top_movies(url):\n",
    "    response = requests.get(url, headers={\"User-Agent\":\"Mozilla/5.0 (Windows NT 10.0; Win64; x64; rv:130.0) Gecko/20100101 Firefox/130.0\"})\n",
    "    \n",
    "    soup = BeautifulSoup(response.content, 'html.parser')\n",
    "    \n",
    "    script_tag = soup.find('script', type='application/ld+json')\n",
    "    \n",
    "    # List to hold movie data\n",
    "    movie_list = []\n",
    "\n",
    "    # Load JSON data\n",
    "    json_data = json.loads(script_tag.string)\n",
    "        \n",
    "    movies = json_data['itemListElement']\n",
    "    for movie in movies:\n",
    "        name = movie['item']['name']\n",
    "        genre = movie['item'].get('genre', 'N/A')  # Use .get() in case the field is missing\n",
    "        description = movie['item'].get('description', 'N/A')\n",
    "        duration = movie['item'].get('duration', 'N/A')\n",
    "        \n",
    "        # Append to list\n",
    "        movie_list.append([name, genre, description, duration])\n",
    "\n",
    "    # Convert list to a pandas DataFrame\n",
    "    return pd.DataFrame(movie_list, columns=['Name', 'Genre', 'Description', 'Duration'])\n",
    "\n",
    "url = 'https://www.imdb.com/chart/top/?ref_=nv_mv_250'\n",
    "\n",
    "movie_df = scrape_imdb_top_movies(url)\n",
    "movie_df.head()"
   ]
  },
  {
   "cell_type": "markdown",
   "metadata": {},
   "source": [
    "### Generate the CSV based on the scrapped results"
   ]
  },
  {
   "cell_type": "code",
   "execution_count": 18,
   "metadata": {},
   "outputs": [],
   "source": [
    "import os\n",
    "\n",
    "filename = 'movies_scraped.csv'\n",
    "\n",
    "outdir = '../data'\n",
    "if not os.path.exists(outdir):\n",
    "    os.mkdir(outdir)\n",
    "\n",
    "fullname = os.path.join(outdir, filename)    \n",
    "movie_df.to_csv(fullname, sep='|', encoding='utf-8-sig')"
   ]
  }
 ],
 "metadata": {
  "kernelspec": {
   "display_name": "Python 3",
   "language": "python",
   "name": "python3"
  },
  "language_info": {
   "codemirror_mode": {
    "name": "ipython",
    "version": 3
   },
   "file_extension": ".py",
   "mimetype": "text/x-python",
   "name": "python",
   "nbconvert_exporter": "python",
   "pygments_lexer": "ipython3",
   "version": "3.9.2"
  }
 },
 "nbformat": 4,
 "nbformat_minor": 2
}
