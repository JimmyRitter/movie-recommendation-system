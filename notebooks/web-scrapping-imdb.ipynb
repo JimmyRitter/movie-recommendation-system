{
 "cells": [
  {
   "cell_type": "markdown",
   "metadata": {},
   "source": [
    "### Import Libraries"
   ]
  },
  {
   "cell_type": "code",
   "execution_count": 101,
   "metadata": {},
   "outputs": [],
   "source": [
    "from bs4 import BeautifulSoup\n",
    "import pandas as pd\n",
    "import requests\n",
    "import json\n",
    "import re\n",
    "import os"
   ]
  },
  {
   "cell_type": "markdown",
   "metadata": {},
   "source": [
    "## Scrape imdb website to find the top 250 movies"
   ]
  },
  {
   "cell_type": "code",
   "execution_count": 102,
   "metadata": {},
   "outputs": [],
   "source": [
    "movie_list = []\n",
    "\n",
    "def scrape_imdb_top_movies():\n",
    "    \"\"\"Scrape IMDB website, so we have a list of movies to analyze\"\"\"\n",
    "\n",
    "    url = 'https://www.imdb.com/chart/top/?ref_=nv_mv_250'\n",
    "\n",
    "    response = requests.get(url, headers={\"User-Agent\":\"Mozilla/5.0 (Windows NT 10.0; Win64; x64; rv:130.0) Gecko/20100101 Firefox/130.0\"})\n",
    "    \n",
    "    soup = BeautifulSoup(response.content, 'html.parser')\n",
    "    \n",
    "    content_script_tag = soup.find('script', type='application/ld+json')\n",
    "    \n",
    "    # Load JSON data\n",
    "    json_data = json.loads(content_script_tag.string)\n",
    "        \n",
    "    movies = json_data['itemListElement']\n",
    "    for movie in movies:\n",
    "        name = movie['item']['name']\n",
    "        genre = movie['item'].get('genre', 'N/A')  # Use .get() in case the field is missing\n",
    "        description = movie['item'].get('description', 'N/A')\n",
    "        duration = movie['item'].get('duration', 'N/A')\n",
    "        \n",
    "        # Append to list\n",
    "        movie_list.append([name, genre, description, duration])\n",
    "    \n",
    "\n",
    "    # Convert list to a pandas DataFrame\n",
    "    return pd.DataFrame(movie_list, columns=['Name', 'Genre', 'Description', 'Duration'])\n",
    "\n",
    "\n",
    "movie_df = scrape_imdb_top_movies()"
   ]
  },
  {
   "cell_type": "markdown",
   "metadata": {},
   "source": [
    "### (Optional) Adding some \"dirty\" records, so we we can see cleaning in action"
   ]
  },
  {
   "cell_type": "code",
   "execution_count": 103,
   "metadata": {},
   "outputs": [],
   "source": [
    "# Add a dummy record with correct column names\n",
    "new_row = pd.DataFrame([\n",
    "    ['dummy', '', 'dummy description', 123],\n",
    "    ['Viral video', 'Youtube Shorts', 'This is a youtube viral video', 'PT1M']],\n",
    "                       columns=['Name', 'Genre', 'Description', 'Duration'])\n",
    "\n",
    "movie_df = pd.concat([movie_df, new_row], ignore_index=True)\n",
    "\n",
    "movie_df.loc[3, ['Name']] = \"\""
   ]
  },
  {
   "cell_type": "markdown",
   "metadata": {},
   "source": [
    "### Generate the CSV based on the scrapped results"
   ]
  },
  {
   "cell_type": "code",
   "execution_count": 104,
   "metadata": {},
   "outputs": [],
   "source": [
    "filename = 'movies_scraped.csv'\n",
    "\n",
    "outdir = '../data'\n",
    "if not os.path.exists(outdir):\n",
    "    os.mkdir(outdir)\n",
    "\n",
    "fullname = os.path.join(outdir, filename)    \n",
    "movie_df.to_csv(fullname, sep='|')"
   ]
  },
  {
   "cell_type": "markdown",
   "metadata": {},
   "source": [
    "### Load Data"
   ]
  },
  {
   "cell_type": "code",
   "execution_count": 105,
   "metadata": {},
   "outputs": [],
   "source": [
    "df = pd.read_csv('../data/movies_scraped.csv', sep='|')"
   ]
  },
  {
   "cell_type": "markdown",
   "metadata": {},
   "source": [
    "### Data cleaning (invalid records)"
   ]
  },
  {
   "cell_type": "code",
   "execution_count": 106,
   "metadata": {},
   "outputs": [],
   "source": [
    "# Pattern to match valid duration formats (PT2H22M, PT2H, PT22M)\n",
    "valid_duration_pattern = r'^PT(\\d+H)?(\\d+M)?$'\n",
    "\n",
    "# Filter out rows with invalid 'Duration' using regex\n",
    "df = df[df['Duration'].str.match(valid_duration_pattern, na=False)]\n",
    "\n",
    "df.fillna(\"Unkown\", inplace=True)"
   ]
  },
  {
   "cell_type": "markdown",
   "metadata": {},
   "source": [
    "### Data Transformation"
   ]
  },
  {
   "cell_type": "code",
   "execution_count": 107,
   "metadata": {},
   "outputs": [],
   "source": [
    "# Convert 'Duration' to total minutes\n",
    "def convert_duration(duration_str):\n",
    "    hours = 0\n",
    "    minutes = 0\n",
    "    hour_match = re.search(r'(\\d+)H', duration_str)\n",
    "    minute_match = re.search(r'(\\d+)M', duration_str)\n",
    "    if hour_match:\n",
    "        hours = int(hour_match.group(1))\n",
    "    if minute_match:\n",
    "        minutes = int(minute_match.group(1))\n",
    "    return hours * 60 + minutes\n",
    "\n",
    "# Apply the conversion\n",
    "df['Duration_in_minutes'] = df['Duration'].apply(convert_duration)"
   ]
  },
  {
   "cell_type": "markdown",
   "metadata": {},
   "source": [
    "### Data cleaning (remove outliers)"
   ]
  },
  {
   "cell_type": "code",
   "execution_count": 108,
   "metadata": {},
   "outputs": [
    {
     "name": "stdout",
     "output_type": "stream",
     "text": [
      "Mean Duration: 129.39 minutes\n",
      "Valid Range: 12.94 - 245.84 minutes\n",
      "250\n",
      "1\n"
     ]
    }
   ],
   "source": [
    "# Calculate the mean of 'Duration_in_minutes'\n",
    "mean_duration = df['Duration_in_minutes'].mean()\n",
    "\n",
    "# Define a percentage tolerance (e.g., 90%)\n",
    "percentage_tolerance = 0.9\n",
    "\n",
    "# Calculate dynamic minimum and maximum duration values\n",
    "min_duration = mean_duration * (1 - percentage_tolerance)\n",
    "max_duration = mean_duration * (1 + percentage_tolerance)\n",
    "\n",
    "print(f\"Mean Duration: {mean_duration:.2f} minutes\")\n",
    "print(f\"Valid Range: {min_duration:.2f} - {max_duration:.2f} minutes\")\n",
    "\n",
    "# Filter the DataFrame to identify outliers based on the dynamic range\n",
    "df_valids = df[(df['Duration_in_minutes'] >= min_duration) & (df['Duration_in_minutes'] <= max_duration)]\n",
    "\n",
    "# Perform a left join, so we can identify the outliers based on the valid ones\n",
    "df_merged = pd.merge(df, df_valids, on='Name', how='left', suffixes=('', '_valid'))\n",
    "\n",
    "# Identify the outliers, so they can be further analyzed. Maybe there are some false positives\n",
    "df_outliers = df_merged[df_merged['Duration_in_minutes_valid'].isnull()]\n",
    "\n",
    "# Display the filtered DataFrame\n",
    "print(df_valids.shape[0])\n",
    "print(df_outliers.shape[0])\n"
   ]
  },
  {
   "cell_type": "markdown",
   "metadata": {},
   "source": [
    "### Exploratory Data Analaysis"
   ]
  },
  {
   "cell_type": "code",
   "execution_count": 62,
   "metadata": {},
   "outputs": [
    {
     "data": {
      "image/png": "[encoded data removed]",
      "text/plain": [
       "<Figure size 640x480 with 1 Axes>"
      ]
     },
     "metadata": {},
     "output_type": "display_data"
    }
   ],
   "source": [
    "import matplotlib.pyplot as plt\n",
    "\n",
    "plt.hist(df['Duration_in_minutes'], bins=20)\n",
    "plt.title('Distribution of Movie Durations')\n",
    "plt.xlabel('Minutes')\n",
    "plt.ylabel('Frequency')\n",
    "plt.show()\n"
   ]
  },
  {
   "cell_type": "code",
   "execution_count": 61,
   "metadata": {},
   "outputs": [
    {
     "data": {
      "text/html": [
       "<div>\n",
       "<style scoped>\n",
       "    .dataframe tbody tr th:only-of-type {\n",
       "        vertical-align: middle;\n",
       "    }\n",
       "\n",
       "    .dataframe tbody tr th {\n",
       "        vertical-align: top;\n",
       "    }\n",
       "\n",
       "    .dataframe thead th {\n",
       "        text-align: right;\n",
       "    }\n",
       "</style>\n",
       "<table border=\"1\" class=\"dataframe\">\n",
       "  <thead>\n",
       "    <tr style=\"text-align: right;\">\n",
       "      <th></th>\n",
       "      <th>Unnamed: 0</th>\n",
       "      <th>Name</th>\n",
       "      <th>Genre</th>\n",
       "      <th>Description</th>\n",
       "      <th>Duration</th>\n",
       "      <th>Duration_in_minutes</th>\n",
       "    </tr>\n",
       "  </thead>\n",
       "  <tbody>\n",
       "    <tr>\n",
       "      <th>0</th>\n",
       "      <td>0</td>\n",
       "      <td>The Shawshank Redemption</td>\n",
       "      <td>Drama</td>\n",
       "      <td>A banker convicted of uxoricide forms a friend...</td>\n",
       "      <td>PT2H22M</td>\n",
       "      <td>142</td>\n",
       "    </tr>\n",
       "    <tr>\n",
       "      <th>1</th>\n",
       "      <td>1</td>\n",
       "      <td>The Godfather</td>\n",
       "      <td>Crime, Drama</td>\n",
       "      <td>The aging patriarch of an organized crime dyna...</td>\n",
       "      <td>PT2H55M</td>\n",
       "      <td>175</td>\n",
       "    </tr>\n",
       "    <tr>\n",
       "      <th>2</th>\n",
       "      <td>2</td>\n",
       "      <td>The Dark Knight</td>\n",
       "      <td>Action, Crime, Drama</td>\n",
       "      <td>When a menace known as the Joker wreaks havoc ...</td>\n",
       "      <td>PT2H32M</td>\n",
       "      <td>152</td>\n",
       "    </tr>\n",
       "    <tr>\n",
       "      <th>3</th>\n",
       "      <td>3</td>\n",
       "      <td>Unkown</td>\n",
       "      <td>Crime, Drama</td>\n",
       "      <td>The early life and career of Vito Corleone in ...</td>\n",
       "      <td>PT3H22M</td>\n",
       "      <td>202</td>\n",
       "    </tr>\n",
       "    <tr>\n",
       "      <th>4</th>\n",
       "      <td>4</td>\n",
       "      <td>12 Angry Men</td>\n",
       "      <td>Crime, Drama</td>\n",
       "      <td>The jury in a New York City murder trial is fr...</td>\n",
       "      <td>PT1H36M</td>\n",
       "      <td>96</td>\n",
       "    </tr>\n",
       "  </tbody>\n",
       "</table>\n",
       "</div>"
      ],
      "text/plain": [
       "   Unnamed: 0                      Name                 Genre  \\\n",
       "0           0  The Shawshank Redemption                 Drama   \n",
       "1           1             The Godfather          Crime, Drama   \n",
       "2           2           The Dark Knight  Action, Crime, Drama   \n",
       "3           3                    Unkown          Crime, Drama   \n",
       "4           4              12 Angry Men          Crime, Drama   \n",
       "\n",
       "                                         Description Duration  \\\n",
       "0  A banker convicted of uxoricide forms a friend...  PT2H22M   \n",
       "1  The aging patriarch of an organized crime dyna...  PT2H55M   \n",
       "2  When a menace known as the Joker wreaks havoc ...  PT2H32M   \n",
       "3  The early life and career of Vito Corleone in ...  PT3H22M   \n",
       "4  The jury in a New York City murder trial is fr...  PT1H36M   \n",
       "\n",
       "   Duration_in_minutes  \n",
       "0                  142  \n",
       "1                  175  \n",
       "2                  152  \n",
       "3                  202  \n",
       "4                   96  "
      ]
     },
     "execution_count": 61,
     "metadata": {},
     "output_type": "execute_result"
    }
   ],
   "source": [
    "df.head()"
   ]
  }
 ],
 "metadata": {
  "kernelspec": {
   "display_name": "Python 3",
   "language": "python",
   "name": "python3"
  },
  "language_info": {
   "codemirror_mode": {
    "name": "ipython",
    "version": 3
   },
   "file_extension": ".py",
   "mimetype": "text/x-python",
   "name": "python",
   "nbconvert_exporter": "python",
   "pygments_lexer": "ipython3",
   "version": "3.9.2"
  }
 },
 "nbformat": 4,
 "nbformat_minor": 2
}
