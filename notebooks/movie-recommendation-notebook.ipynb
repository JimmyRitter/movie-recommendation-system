{
 "cells": [
  {
   "cell_type": "markdown",
   "metadata": {},
   "source": [
    "### Import Libraries"
   ]
  },
  {
   "cell_type": "code",
   "execution_count": 1,
   "metadata": {},
   "outputs": [],
   "source": [
    "import matplotlib.pyplot as plt\n",
    "import seaborn as sns\n",
    "import pandas as pd\n",
    "import numpy as np\n",
    "import requests\n",
    "import json\n",
    "import re\n",
    "import os\n",
    "from bs4 import BeautifulSoup\n",
    "from sklearn.preprocessing import MinMaxScaler\n",
    "from sklearn.metrics.pairwise import cosine_similarity"
   ]
  },
  {
   "cell_type": "markdown",
   "metadata": {},
   "source": [
    "### Scrape imdb website to find the top 250 movies"
   ]
  },
  {
   "cell_type": "code",
   "execution_count": 2,
   "metadata": {},
   "outputs": [],
   "source": [
    "movie_list = []\n",
    "\n",
    "def scrape_imdb_top_movies():\n",
    "    \"\"\"Scrape IMDB website, so we have a list of movies to analyze\"\"\"\n",
    "\n",
    "    url = 'https://www.imdb.com/chart/top/?ref_=nv_mv_250'\n",
    "\n",
    "    response = requests.get(url, headers={\"User-Agent\":\"Mozilla/5.0 (Windows NT 10.0; Win64; x64; rv:130.0) Gecko/20100101 Firefox/130.0\"})\n",
    "    \n",
    "    soup = BeautifulSoup(response.content, 'html.parser')\n",
    "    \n",
    "    content_script_tag = soup.find('script', type='application/ld+json')\n",
    "    \n",
    "    # Load JSON data\n",
    "    json_data = json.loads(content_script_tag.string)\n",
    "        \n",
    "    movies = json_data['itemListElement']\n",
    "    for movie in movies:\n",
    "        name = movie['item']['name']\n",
    "        genre = movie['item'].get('genre', 'N/A')  # Use .get() in case the field is missing\n",
    "        description = movie['item'].get('description', 'N/A')\n",
    "        duration = movie['item'].get('duration', 'N/A')\n",
    "        content_rating = movie['item'].get('contentRating', 'N/A')\n",
    "        rating = movie['item']['aggregateRating'].get('ratingValue', 'N/A')\n",
    "        \n",
    "        # Append to list\n",
    "        movie_list.append([name, genre, description, duration, content_rating, rating])\n",
    "    \n",
    "\n",
    "    # Convert list to a pandas DataFrame\n",
    "    return pd.DataFrame(movie_list, columns=['Name', 'Genre', 'Description', 'Duration', 'ContentRating', 'Rating'])\n",
    "\n",
    "\n",
    "movie_df = scrape_imdb_top_movies()"
   ]
  },
  {
   "cell_type": "markdown",
   "metadata": {},
   "source": [
    "### (Optional) Adding some \"dirty\" records, so we we can see cleaning in action"
   ]
  },
  {
   "cell_type": "code",
   "execution_count": 3,
   "metadata": {},
   "outputs": [],
   "source": [
    "# Add 2 dummy records\n",
    "new_row = pd.DataFrame([\n",
    "    ['dummy', '', 'dummy description', 123, '', ''],\n",
    "    ['Viral video', 'Youtube Shorts', 'This is a youtube viral video', 'PT1M', '', '']],\n",
    "                       columns=['Name', 'Genre', 'Description', 'Duration', 'ContentRating', 'Rating'])\n",
    "\n",
    "movie_df = pd.concat([movie_df, new_row], ignore_index=True)\n",
    "\n",
    "# Remove a movie name, so it finds null records\n",
    "movie_df.loc[3, ['Name']] = \"\""
   ]
  },
  {
   "cell_type": "markdown",
   "metadata": {},
   "source": [
    "### Generate the CSV based on the scrapped results"
   ]
  },
  {
   "cell_type": "code",
   "execution_count": 4,
   "metadata": {},
   "outputs": [],
   "source": [
    "filename = 'movies_scraped.csv'\n",
    "\n",
    "outdir = '../data'\n",
    "if not os.path.exists(outdir):\n",
    "    os.mkdir(outdir)\n",
    "\n",
    "fullname = os.path.join(outdir, filename)    \n",
    "movie_df.to_csv(fullname, sep='|')"
   ]
  },
  {
   "cell_type": "markdown",
   "metadata": {},
   "source": [
    "### Load Data"
   ]
  },
  {
   "cell_type": "code",
   "execution_count": 5,
   "metadata": {},
   "outputs": [],
   "source": [
    "df = pd.read_csv('../data/movies_scraped.csv', sep='|')"
   ]
  },
  {
   "cell_type": "markdown",
   "metadata": {},
   "source": [
    "### Data cleaning (invalid records)"
   ]
  },
  {
   "cell_type": "code",
   "execution_count": 6,
   "metadata": {},
   "outputs": [],
   "source": [
    "# Pattern to match valid duration formats (PT2H22M, PT2H, PT22M)\n",
    "valid_duration_pattern = r'^PT(\\d+H)?(\\d+M)?$'\n",
    "\n",
    "# Filter out rows with invalid 'Duration' using regex\n",
    "df = df[df['Duration'].str.match(valid_duration_pattern, na=False)]\n",
    "\n",
    "df[['Rating']] = df[['Rating']].fillna(value=0)\n",
    "df[['Name', 'Genre', 'Description', 'Duration', 'ContentRating']] = df[['Name', 'Genre', 'Description', 'Duration', 'ContentRating']].fillna(value=\"Unknown\")"
   ]
  },
  {
   "cell_type": "markdown",
   "metadata": {},
   "source": [
    "### Data Transformation"
   ]
  },
  {
   "cell_type": "code",
   "execution_count": 7,
   "metadata": {},
   "outputs": [],
   "source": [
    "# Convert 'Duration' to total minutes\n",
    "def convert_duration(duration_str):\n",
    "    hours = 0\n",
    "    minutes = 0\n",
    "    hour_match = re.search(r'(\\d+)H', duration_str)\n",
    "    minute_match = re.search(r'(\\d+)M', duration_str)\n",
    "    if hour_match:\n",
    "        hours = int(hour_match.group(1))\n",
    "    if minute_match:\n",
    "        minutes = int(minute_match.group(1))\n",
    "    return hours * 60 + minutes\n",
    "\n",
    "# Apply the conversion\n",
    "df['Duration_in_minutes'] = df['Duration'].apply(convert_duration)\n",
    "\n",
    "# Replace the HTML entity for apostrophe (&apos;) with the actual apostrophe (')\n",
    "df = df.replace(\"&apos;\", \"'\", regex=True)"
   ]
  },
  {
   "cell_type": "markdown",
   "metadata": {},
   "source": [
    "### Data cleaning (remove outliers)"
   ]
  },
  {
   "cell_type": "code",
   "execution_count": 8,
   "metadata": {},
   "outputs": [
    {
     "name": "stdout",
     "output_type": "stream",
     "text": [
      "Mean Duration: 129.23 minutes\n",
      "Valid Range: 12.92 - 245.53 minutes\n"
     ]
    }
   ],
   "source": [
    "# Calculate the mean of 'Duration_in_minutes'\n",
    "mean_duration = df['Duration_in_minutes'].mean()\n",
    "\n",
    "# Define a percentage tolerance (e.g., 90%)\n",
    "percentage_tolerance = 0.9\n",
    "\n",
    "# Calculate dynamic minimum and maximum duration values\n",
    "min_duration = mean_duration * (1 - percentage_tolerance)\n",
    "max_duration = mean_duration * (1 + percentage_tolerance)\n",
    "\n",
    "print(f\"Mean Duration: {mean_duration:.2f} minutes\")\n",
    "print(f\"Valid Range: {min_duration:.2f} - {max_duration:.2f} minutes\")\n",
    "\n",
    "# Filter the DataFrame to identify outliers based on the dynamic range\n",
    "df_valids = df[(df['Duration_in_minutes'] >= min_duration) & (df['Duration_in_minutes'] <= max_duration)]\n",
    "\n",
    "# Perform a left join, so we can identify the outliers based on the valid ones\n",
    "df_merged = pd.merge(df, df_valids, on=['Name', 'Genre', 'Description'], how='left', suffixes=('', '_valid'))\n",
    "\n",
    "# Identify the outliers, so they can be further analyzed. Maybe there are some false positives\n",
    "df_outliers = df_merged[df_merged['Duration_in_minutes_valid'].isnull()]\n",
    "\n",
    "df = df_valids"
   ]
  },
  {
   "cell_type": "markdown",
   "metadata": {},
   "source": [
    "### Checking the outliers, as they might be false positives"
   ]
  },
  {
   "cell_type": "code",
   "execution_count": 9,
   "metadata": {},
   "outputs": [
    {
     "data": {
      "text/html": [
       "<div>\n",
       "<style scoped>\n",
       "    .dataframe tbody tr th:only-of-type {\n",
       "        vertical-align: middle;\n",
       "    }\n",
       "\n",
       "    .dataframe tbody tr th {\n",
       "        vertical-align: top;\n",
       "    }\n",
       "\n",
       "    .dataframe thead th {\n",
       "        text-align: right;\n",
       "    }\n",
       "</style>\n",
       "<table border=\"1\" class=\"dataframe\">\n",
       "  <thead>\n",
       "    <tr style=\"text-align: right;\">\n",
       "      <th></th>\n",
       "      <th>Unnamed: 0</th>\n",
       "      <th>Name</th>\n",
       "      <th>Genre</th>\n",
       "      <th>Description</th>\n",
       "      <th>Duration</th>\n",
       "      <th>ContentRating</th>\n",
       "      <th>Rating</th>\n",
       "      <th>Duration_in_minutes</th>\n",
       "      <th>Unnamed: 0_valid</th>\n",
       "      <th>Duration_valid</th>\n",
       "      <th>ContentRating_valid</th>\n",
       "      <th>Rating_valid</th>\n",
       "      <th>Duration_in_minutes_valid</th>\n",
       "    </tr>\n",
       "  </thead>\n",
       "  <tbody>\n",
       "    <tr>\n",
       "      <th>250</th>\n",
       "      <td>251</td>\n",
       "      <td>Viral video</td>\n",
       "      <td>Youtube Shorts</td>\n",
       "      <td>This is a youtube viral video</td>\n",
       "      <td>PT1M</td>\n",
       "      <td>Unknown</td>\n",
       "      <td>0.0</td>\n",
       "      <td>1</td>\n",
       "      <td>NaN</td>\n",
       "      <td>NaN</td>\n",
       "      <td>NaN</td>\n",
       "      <td>NaN</td>\n",
       "      <td>NaN</td>\n",
       "    </tr>\n",
       "  </tbody>\n",
       "</table>\n",
       "</div>"
      ],
      "text/plain": [
       "     Unnamed: 0         Name           Genre                    Description  \\\n",
       "250         251  Viral video  Youtube Shorts  This is a youtube viral video   \n",
       "\n",
       "    Duration ContentRating  Rating  Duration_in_minutes  Unnamed: 0_valid  \\\n",
       "250     PT1M       Unknown     0.0                    1               NaN   \n",
       "\n",
       "    Duration_valid ContentRating_valid  Rating_valid  \\\n",
       "250            NaN                 NaN           NaN   \n",
       "\n",
       "     Duration_in_minutes_valid  \n",
       "250                        NaN  "
      ]
     },
     "execution_count": 9,
     "metadata": {},
     "output_type": "execute_result"
    }
   ],
   "source": [
    "df_outliers.head()"
   ]
  },
  {
   "cell_type": "markdown",
   "metadata": {},
   "source": [
    "### Feature Engineering"
   ]
  },
  {
   "cell_type": "code",
   "execution_count": 10,
   "metadata": {},
   "outputs": [],
   "source": [
    "# Define a mapping to classify each rating into a category\n",
    "def classify_rating(rating):\n",
    "    family_friendly = ['G', 'U', 'Approved', 'Passed']\n",
    "    family_with_supervision = ['PG', 'PG-13', '12A', 'TV-14']\n",
    "    adult_only = ['R', 'NC-17', 'Not Rated', 'Unknown', '15', '18', '16']\n",
    "\n",
    "    if rating in family_friendly:\n",
    "        return 'Family-Friendly'\n",
    "    elif rating in family_with_supervision:\n",
    "        return 'Family-Friendly with Supervision'\n",
    "    elif rating in adult_only:\n",
    "        return 'Adult Only'\n",
    "    else:\n",
    "        return 'Unclassified'\n",
    "\n",
    "# Apply the classification to create the 3 separate boolean columns\n",
    "df['Family_Friendly'] = df['ContentRating'].apply(lambda x: classify_rating(x) == 'Family-Friendly')\n",
    "df['Family_Friendly_with_Supervision'] = df['ContentRating'].apply(lambda x: classify_rating(x) == 'Family-Friendly with Supervision')\n",
    "df['Adult_Only'] = df['ContentRating'].apply(lambda x: classify_rating(x) == 'Adult Only')"
   ]
  },
  {
   "cell_type": "markdown",
   "metadata": {},
   "source": [
    "### One-hot encoding"
   ]
  },
  {
   "cell_type": "code",
   "execution_count": 11,
   "metadata": {},
   "outputs": [],
   "source": [
    "# Split the 'Genre' column by commas into a list of genres\n",
    "df['Genre_Split'] = df['Genre'].str.split(', ')\n",
    "\n",
    "# Explode the DataFrame so that each genre gets its own row\n",
    "df_exploded = df.explode('Genre_Split')\n",
    "\n",
    "# Apply one-hot encoding to the exploded 'Genre_Split' column\n",
    "df_one_hot = pd.get_dummies(df_exploded['Genre_Split'])\n",
    "\n",
    "# Group by the original movie to aggregate the genres\n",
    "df_content_matrix = df_one_hot.groupby(df_exploded['Name']).max().reset_index()\n",
    "\n",
    "df_combined = df_content_matrix.copy()  # Copy the one-hot encoded matrix\n",
    "\n",
    "# Add other numerical features, like 'Duration_in_minutes'\n",
    "df_combined = df_combined.merge(df[['Name', 'Duration_in_minutes']], on='Name')\n",
    "\n",
    "# One-hot encode the 'ContentRating' column\n",
    "df_content_rating = pd.get_dummies(df[['Name', 'ContentRating']], columns=['ContentRating'])\n",
    "\n",
    "# Merge the one-hot encoded content rating with the combined matrix based on the 'Name' column\n",
    "df_combined = df_combined.merge(df_content_rating, on='Name')"
   ]
  },
  {
   "cell_type": "markdown",
   "metadata": {},
   "source": [
    "### Similarity Matrix"
   ]
  },
  {
   "cell_type": "code",
   "execution_count": 12,
   "metadata": {},
   "outputs": [],
   "source": [
    "df_numeric = df_combined.drop(columns=['Name'])\n",
    "\n",
    "# Normalize the numerical features\n",
    "scaler = MinMaxScaler()\n",
    "df_normalized = pd.DataFrame(scaler.fit_transform(df_numeric), columns=df_numeric.columns)\n",
    "\n",
    "# Calculate cosine similarity based on the structured features\n",
    "cosine_sim_matrix = cosine_similarity(df_normalized)\n",
    "\n",
    "# Convert the similarity matrix to a DataFrame for better readability\n",
    "cosine_sim_df = pd.DataFrame(cosine_sim_matrix, index=df_combined['Name'], columns=df_combined['Name'])\n"
   ]
  },
  {
   "cell_type": "markdown",
   "metadata": {},
   "source": [
    "### Evaluation"
   ]
  },
  {
   "cell_type": "code",
   "execution_count": 13,
   "metadata": {},
   "outputs": [],
   "source": [
    "# Select a specific movie, so it can be further visualized\n",
    "movie_name = 'The Matrix'"
   ]
  },
  {
   "cell_type": "markdown",
   "metadata": {},
   "source": [
    "#### Visual Analysis (Similarity Bar Plot)"
   ]
  },
  {
   "cell_type": "code",
   "execution_count": 14,
   "metadata": {},
   "outputs": [
    {
     "data": {
      "image/png": "[encoded data removed]",
      "text/plain": [
       "<Figure size 1000x600 with 1 Axes>"
      ]
     },
     "metadata": {},
     "output_type": "display_data"
    }
   ],
   "source": [
    "# Extract similarity scores for the movie\n",
    "similarities = cosine_sim_df[movie_name].sort_values(ascending=False)[1:11]  # Top 10, excluding itself\n",
    "\n",
    "# Plot similarity scores as a bar chart\n",
    "plt.figure(figsize=(10, 6))\n",
    "sns.barplot(x=similarities.values, y=similarities.index, hue=similarities.values, palette='viridis', legend=False)\n",
    "plt.title(f'Top 10 Similar Movies to \\\"{movie_name}\\\"')\n",
    "plt.xlabel('Cosine Similarity Score')\n",
    "plt.ylabel('Movie')\n",
    "plt.show()\n"
   ]
  },
  {
   "cell_type": "markdown",
   "metadata": {},
   "source": [
    "#### Distribution of Movie Durations"
   ]
  },
  {
   "cell_type": "code",
   "execution_count": 15,
   "metadata": {},
   "outputs": [
    {
     "data": {
      "image/png": "[encoded data removed]",
      "text/plain": [
       "<Figure size 640x480 with 1 Axes>"
      ]
     },
     "metadata": {},
     "output_type": "display_data"
    }
   ],
   "source": [
    "# using square root as this is simple and useful for general purposes\n",
    "num_bins = int(np.sqrt(len(df['Duration_in_minutes'])))\n",
    "\n",
    "# plot the histogram with the calculated number of bins\n",
    "plt.hist(df['Duration_in_minutes'], bins=num_bins)\n",
    "\n",
    "plt.title('Distribution of Movie Durations')\n",
    "plt.xlabel('Minutes')\n",
    "plt.ylabel('Amount')\n",
    "plt.show()\n"
   ]
  },
  {
   "cell_type": "markdown",
   "metadata": {},
   "source": [
    "#### Genre Analysis"
   ]
  },
  {
   "cell_type": "code",
   "execution_count": 16,
   "metadata": {},
   "outputs": [
    {
     "data": {
      "image/png": "[encoded data removed]",
      "text/plain": [
       "<Figure size 1000x600 with 1 Axes>"
      ]
     },
     "metadata": {},
     "output_type": "display_data"
    }
   ],
   "source": [
    "# Get the genre counts and sort them in descending order\n",
    "genre_counts = df['Genre'].str.split(', ').explode().value_counts().sort_values(ascending=True)\n",
    "\n",
    "# Plot the horizontal bar chart with sorted values\n",
    "genre_counts.plot(kind='barh', figsize=(10, 6), color='skyblue')\n",
    "\n",
    "# Add titles and labels\n",
    "plt.title('Distribution of Genres')\n",
    "plt.xlabel('Number of Movies')\n",
    "plt.ylabel('Genre')\n",
    "plt.show()\n"
   ]
  },
  {
   "cell_type": "markdown",
   "metadata": {},
   "source": [
    "#### Coverage Metrics\n",
    "\n",
    "##### Interpreting the Results:\n",
    "- High Coverage (>70%):\n",
    "Recommendations span most movies in the dataset.\n",
    "The system provides diverse suggestions rather than favoring a few movies.\n",
    "\n",
    "- Low Coverage (<40%):\n",
    "The system focuses on a small set of movies, indicating a bias.\n",
    "May need more features or weight adjustments for better coverage."
   ]
  },
  {
   "cell_type": "code",
   "execution_count": 17,
   "metadata": {},
   "outputs": [
    {
     "name": "stdout",
     "output_type": "stream",
     "text": [
      "Coverage: 98.80%\n"
     ]
    }
   ],
   "source": [
    "# Function to calculate coverage\n",
    "def calculate_coverage(top_n=10):\n",
    "    recommended_movies = set()  # Store unique recommendations\n",
    "    \n",
    "    # Generate recommendations for each movie\n",
    "    for movie in cosine_sim_df.index:\n",
    "        top_recommendations = cosine_sim_df[movie].sort_values(ascending=False)[1:top_n+1]  # Exclude itself\n",
    "        recommended_movies.update(top_recommendations.index)  # Add recommended movies\n",
    "    \n",
    "    # Calculate coverage percentage\n",
    "    coverage = len(recommended_movies) / len(cosine_sim_df) * 100\n",
    "    return coverage\n",
    "\n",
    "# Calculate coverage for Top 10 recommendations\n",
    "coverage = calculate_coverage(top_n=10)\n",
    "print(f'Coverage: {coverage:.2f}%')\n"
   ]
  },
  {
   "cell_type": "markdown",
   "metadata": {},
   "source": [
    "### Diversity Metrics\n",
    "\n",
    "##### Interpreting the Results:\n",
    "- Diversity > 0.6:\n",
    "The system is highly diverse, suggesting that it explores different genres and styles effectively.\n",
    "\n",
    "- Diversity 0.4–0.6:\n",
    "Moderate diversity, meaning it’s somewhat varied but still has clusters of similar movies.\n",
    "\n",
    "- Diversity < 0.4:\n",
    "The system has low diversity and may be overfitting to certain features like genre or duration."
   ]
  },
  {
   "cell_type": "code",
   "execution_count": 18,
   "metadata": {},
   "outputs": [
    {
     "name": "stdout",
     "output_type": "stream",
     "text": [
      "Diversity (Overall): 0.6830\n"
     ]
    }
   ],
   "source": [
    "def calculate_overall_diversity():\n",
    "    # Flatten the similarity matrix, ignoring self-similarity (diagonal)\n",
    "    similarity_values = cosine_sim_df.values[np.triu_indices_from(cosine_sim_df, k=1)]\n",
    "    \n",
    "    # Calculate average similarity across all pairs\n",
    "    avg_similarity = np.mean(similarity_values)\n",
    "    \n",
    "    # Diversity is 1 - average similarity\n",
    "    diversity_score = 1 - avg_similarity\n",
    "    return diversity_score\n",
    "\n",
    "# Calculate diversity for the entire dataset\n",
    "diversity = calculate_overall_diversity()\n",
    "print(f'Diversity (Overall): {diversity:.4f}')\n"
   ]
  },
  {
   "cell_type": "markdown",
   "metadata": {},
   "source": [
    "### Serendipity Testing\n",
    "\n",
    "#### How is it Measured?\n",
    "We use **Jaccard Similarity** to compare the **genres** of a movie with its recommendations:\n",
    "\n",
    "- **Low Scores** = **Unexpected suggestions (a.k.a. Hidden Gems)** (serendipitous).\n",
    "- **High Scores** = **Expected suggestions** (similar).\n"
   ]
  },
  {
   "cell_type": "code",
   "execution_count": 19,
   "metadata": {},
   "outputs": [
    {
     "name": "stdout",
     "output_type": "stream",
     "text": [
      "                        Movie  Jaccard Similarity\n",
      "7                        Heat            0.250000\n",
      "8              Dune: Part Two            0.250000\n",
      "9                   Gladiator            0.250000\n",
      "5                    Die Hard            0.333333\n",
      "6                       Alien            0.333333\n",
      "2                      Aliens            0.666667\n",
      "3                Blade Runner            0.666667\n",
      "0                   Inception            0.666667\n",
      "4              The Terminator            0.666667\n",
      "1  Terminator 2: Judgment Day            0.666667\n"
     ]
    }
   ],
   "source": [
    "def jaccard_similarity(set1, set2):\n",
    "    \"\"\"Calculate Jaccard similarity between two sets.\"\"\"\n",
    "    intersection = len(set1.intersection(set2))\n",
    "    union = len(set1.union(set2))\n",
    "    return intersection / union if union > 0 else 0\n",
    "\n",
    "def serendipity_test(top_n=10):\n",
    "    # Get recommendations\n",
    "    recommendations = cosine_sim_df[movie_name].sort_values(ascending=False)[1:top_n+1]\n",
    "\n",
    "    # Extract genres for the input movie\n",
    "    input_genres = set(df[df['Name'] == movie_name]['Genre'].values[0].split(', '))\n",
    "\n",
    "    # Analyze genre overlap using Jaccard similarity\n",
    "    serendipity_scores = []\n",
    "    for rec in recommendations.index:\n",
    "        rec_genres = set(df[df['Name'] == rec]['Genre'].values[0].split(', '))\n",
    "        score = jaccard_similarity(input_genres, rec_genres)\n",
    "        serendipity_scores.append({'Movie': rec, 'Jaccard Similarity': score})\n",
    "\n",
    "    # Create DataFrame and sort by lowest similarity (most serendipitous)\n",
    "    serendipity_df = pd.DataFrame(serendipity_scores).sort_values(by='Jaccard Similarity', ascending=True)\n",
    "    return serendipity_df\n",
    "\n",
    "serendipity_results = serendipity_test(top_n=10)\n",
    "print(serendipity_results)\n"
   ]
  }
 ],
 "metadata": {
  "kernelspec": {
   "display_name": "Python 3",
   "language": "python",
   "name": "python3"
  },
  "language_info": {
   "codemirror_mode": {
    "name": "ipython",
    "version": 3
   },
   "file_extension": ".py",
   "mimetype": "text/x-python",
   "name": "python",
   "nbconvert_exporter": "python",
   "pygments_lexer": "ipython3",
   "version": "3.12.3"
  }
 },
 "nbformat": 4,
 "nbformat_minor": 2
}
